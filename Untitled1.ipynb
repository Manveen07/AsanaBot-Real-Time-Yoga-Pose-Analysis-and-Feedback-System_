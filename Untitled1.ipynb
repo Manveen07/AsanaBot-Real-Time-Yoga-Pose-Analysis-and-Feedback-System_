{
 "cells": [
  {
   "cell_type": "code",
   "execution_count": 2,
   "id": "4e4877f9-0f4f-45c2-95d2-60f1b87069f6",
   "metadata": {},
   "outputs": [
    {
     "name": "stdout",
     "output_type": "stream",
     "text": [
      "SVM Accuracy: 0.6189624329159212\n",
      "Random Forest Accuracy: 0.6932021466905188\n",
      "Loaded features shape: (5589, 48)\n",
      "Loaded labels shape: (5589,)\n"
     ]
    }
   ],
   "source": [
    "import os\n",
    "import warnings\n",
    "import numpy as np\n",
    "import pickle\n",
    "\n",
    "from sklearn.model_selection import train_test_split\n",
    "from sklearn.svm import SVC\n",
    "from sklearn.metrics import accuracy_score\n",
    "from sklearn.ensemble import RandomForestClassifier\n",
    "from sklearn.preprocessing import LabelEncoder\n",
    "\n",
    "# Load data\n",
    "with open('data12.pkl', 'rb') as f:\n",
    "    X_loaded, y_loaded = pickle.load(f)\n",
    "\n",
    "# Encode the labels\n",
    "label_encoder = LabelEncoder()\n",
    "y_encoded = label_encoder.fit_transform(y_loaded)\n",
    "\n",
    "# Split data into training and testing sets\n",
    "X_train, X_test, y_train, y_test = train_test_split(X_loaded, y_encoded, test_size=0.2, random_state=42)\n",
    "\n",
    "# Train an SVM model\n",
    "model = SVC(kernel='linear')\n",
    "model.fit(X_train, y_train)\n",
    "\n",
    "# Evaluate the model\n",
    "y_pred = model.predict(X_test)\n",
    "print('SVM Accuracy:', accuracy_score(y_test, y_pred))\n",
    "\n",
    "# Train a Random Forest model\n",
    "BestParameters = {'n_estimators': 200, 'min_samples_split': 4, 'min_samples_leaf': 1, 'max_depth': 50, 'bootstrap': False}\n",
    "rf = RandomForestClassifier(**BestParameters)\n",
    "rf.fit(X_train, y_train)\n",
    "\n",
    "# Evaluate the Random Forest model\n",
    "y_pred_rf = rf.predict(X_test)\n",
    "print('Random Forest Accuracy:', accuracy_score(y_test, y_pred_rf))\n",
    "\n",
    "# Save the trained models and the label encoder\n",
    "# with open('pose_classifier_svm.pkl', 'wb') as f:\n",
    "#     pickle.dump(model, f)\n",
    "\n",
    "# with open('pose_classifier_rf.pkl', 'wb') as f:\n",
    "#     pickle.dump(rf, f)\n",
    "\n",
    "with open('label_encoder.pkl', 'wb') as f:\n",
    "    pickle.dump(label_encoder, f)\n",
    "\n",
    "# Verify the shapes of the loaded arrays\n",
    "print(f'Loaded features shape: {X_loaded.shape}')\n",
    "print(f'Loaded labels shape: {y_loaded.shape}')\n"
   ]
  },
  {
   "cell_type": "code",
   "execution_count": null,
   "id": "0ab33ff4-1c22-4d28-a1dd-34e75e3307af",
   "metadata": {},
   "outputs": [],
   "source": []
  }
 ],
 "metadata": {
  "kernelspec": {
   "display_name": "Python 3 (ipykernel)",
   "language": "python",
   "name": "python3"
  },
  "language_info": {
   "codemirror_mode": {
    "name": "ipython",
    "version": 3
   },
   "file_extension": ".py",
   "mimetype": "text/x-python",
   "name": "python",
   "nbconvert_exporter": "python",
   "pygments_lexer": "ipython3",
   "version": "3.12.4"
  }
 },
 "nbformat": 4,
 "nbformat_minor": 5
}
